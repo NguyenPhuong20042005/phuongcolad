{
  "nbformat": 4,
  "nbformat_minor": 0,
  "metadata": {
    "colab": {
      "provenance": [],
      "authorship_tag": "ABX9TyPQflrVsSz6lZ5CAKuMFhXl",
      "include_colab_link": true
    },
    "kernelspec": {
      "name": "python3",
      "display_name": "Python 3"
    },
    "language_info": {
      "name": "python"
    }
  },
  "cells": [
    {
      "cell_type": "markdown",
      "metadata": {
        "id": "view-in-github",
        "colab_type": "text"
      },
      "source": [
        "<a href=\"https://colab.research.google.com/github/NguyenPhuong20042005/phuongcolad/blob/main/Untitled3.ipynb\" target=\"_parent\"><img src=\"https://colab.research.google.com/assets/colab-badge.svg\" alt=\"Open In Colab\"/></a>"
      ]
    },
    {
      "cell_type": "markdown",
      "source": [
        "1.\tGrade a Student's Exam"
      ],
      "metadata": {
        "id": "tOaZk-J0cgCJ"
      }
    },
    {
      "cell_type": "code",
      "execution_count": 10,
      "metadata": {
        "colab": {
          "base_uri": "https://localhost:8080/"
        },
        "id": "BAYTdkMHbgHM",
        "outputId": "c5f8f42f-d46f-4148-c4a5-0932f540d862"
      },
      "outputs": [
        {
          "output_type": "stream",
          "name": "stdout",
          "text": [
            "Enter the exam marks (0-100): 90\n",
            "Your letter grade is A\n"
          ]
        }
      ],
      "source": [
        "# Get the student's exam marks\n",
        "marks = float(input(\"Enter the exam marks (0-100): \"))\n",
        "\n",
        "# Determine the letter grade\n",
        "if 90 <= marks <= 100:\n",
        "    grade = \"A\"\n",
        "elif 80 <= marks <= 89:\n",
        "    grade = \"B\"\n",
        "elif 70 <= marks <= 79:\n",
        "    grade = \"C\"\n",
        "elif 60 <= marks <= 69:\n",
        "    grade = \"D\"\n",
        "elif 0 <= marks < 60:\n",
        "    grade = \"F\"\n",
        "else:\n",
        "    grade = None\n",
        "\n",
        "# Display the result\n",
        "if grade:\n",
        "    print(f\"Your letter grade is {grade}\");\n",
        "else:\n",
        "    print(\"Invalid input. Please enter a number between 0 and 100.\");"
      ]
    },
    {
      "cell_type": "markdown",
      "source": [
        "2.\tConvert Celsius to Fahrenheit"
      ],
      "metadata": {
        "id": "pk9HPkWtctrA"
      }
    },
    {
      "cell_type": "code",
      "source": [
        "# Get temperature input in Celsius\n",
        "celsius = float(input(\"Enter temperature in Celsius: \"))\n",
        "\n",
        "# Convert to Fahrenheit\n",
        "fahrenheit = (celsius * 9/5) + 32\n",
        "\n",
        "# Display the result\n",
        "print(f\"The corresponding Fahrenheit temperature is {fahrenheit:.1f}.\")\n"
      ],
      "metadata": {
        "colab": {
          "base_uri": "https://localhost:8080/"
        },
        "id": "l-EPK89gcyj3",
        "outputId": "989720ef-5a47-4e89-8504-8367d51941cb"
      },
      "execution_count": 12,
      "outputs": [
        {
          "output_type": "stream",
          "name": "stdout",
          "text": [
            "Enter temperature in Celsius: 25\n",
            "The corresponding Fahrenheit temperature is 77.0.\n"
          ]
        }
      ]
    },
    {
      "cell_type": "markdown",
      "source": [
        "3.\tInput Validation"
      ],
      "metadata": {
        "id": "w5kSFobyevgn"
      }
    },
    {
      "cell_type": "code",
      "source": [
        "# Input Validation for Positive Number\n",
        "\n",
        "while True:\n",
        "    number = float(input(\"Enter a positive number: \"))\n",
        "    if number > 0:\n",
        "        print(f\"You entered: {number}\")\n",
        "        break\n",
        "    else:\n",
        "        print(\"Error: Please enter a number greater than zero.\")"
      ],
      "metadata": {
        "colab": {
          "base_uri": "https://localhost:8080/"
        },
        "id": "-jSxcmwWezn2",
        "outputId": "e1d2ca23-e199-474d-ba15-6d14c8664d7d"
      },
      "execution_count": 13,
      "outputs": [
        {
          "output_type": "stream",
          "name": "stdout",
          "text": [
            "Enter a positive number: -5\n",
            "Error: Please enter a number greater than zero.\n",
            "Enter a positive number: 0\n",
            "Error: Please enter a number greater than zero.\n",
            "Enter a positive number: 4.5\n",
            "You entered: 4.5\n"
          ]
        }
      ]
    },
    {
      "cell_type": "markdown",
      "source": [
        "4.\tPrint the factorial of a number using a while loop (cách 1)"
      ],
      "metadata": {
        "id": "UwI27nzEfL1G"
      }
    },
    {
      "cell_type": "code",
      "source": [
        "# Factorial using a while loop\n",
        "\n",
        "number = int(input(\"Enter a positive integer: \"))\n",
        "factorial = 1\n",
        "n = number\n",
        "\n",
        "if number < 0:\n",
        "    print(\"Factorial is not defined for negative numbers.\")\n",
        "else:\n",
        "    while n > 1:\n",
        "        factorial *= n\n",
        "        n -= 1\n",
        "    print(f\"The factorial of {number} is {factorial}\")\n"
      ],
      "metadata": {
        "colab": {
          "base_uri": "https://localhost:8080/"
        },
        "id": "Dg1YC9sbfjud",
        "outputId": "bb50a68f-fc1c-477d-9929-b17b805f30fb"
      },
      "execution_count": 14,
      "outputs": [
        {
          "output_type": "stream",
          "name": "stdout",
          "text": [
            "Enter a positive integer: 5\n",
            "The factorial of 5 is 120\n"
          ]
        }
      ]
    },
    {
      "cell_type": "markdown",
      "source": [
        "4.\tPrint the factorial of a number using a while loop (cách 2)"
      ],
      "metadata": {
        "id": "Td47Gp-LgWn4"
      }
    },
    {
      "cell_type": "code",
      "source": [
        "# Input from user\n",
        "num = int(input(\"Enter a number: \"))\n",
        "\n",
        "# Initialize variables\n",
        "factorial = 1\n",
        "i = 1\n",
        "\n",
        "# While loop to compute factorial\n",
        "while i <= num:\n",
        "    factorial *= i\n",
        "    i += 1\n",
        "\n",
        "# Output the result\n",
        "print(f\"The factorial of {num} is {factorial}\")\n"
      ],
      "metadata": {
        "colab": {
          "base_uri": "https://localhost:8080/"
        },
        "id": "j6zuSXZIgaMI",
        "outputId": "a71d470b-adee-4567-f3ae-8e46685c6df9"
      },
      "execution_count": 18,
      "outputs": [
        {
          "output_type": "stream",
          "name": "stdout",
          "text": [
            "Enter a number: 5\n",
            "The factorial of 5 is 120\n"
          ]
        }
      ]
    },
    {
      "cell_type": "markdown",
      "source": [
        "5.\tMultiplication table"
      ],
      "metadata": {
        "id": "OEK_6HjDg04R"
      }
    },
    {
      "cell_type": "code",
      "source": [
        "# Multiplication table from 1 to 10\n",
        "for i in range(1, 11):  # Outer loop for rows\n",
        "    for j in range(1, 11):  # Inner loop for columns\n",
        "        print(f\"{i * j:4}\", end=\"\")  # Print each product with spacing\n",
        "    print()  # Move to the next line after each row\n"
      ],
      "metadata": {
        "colab": {
          "base_uri": "https://localhost:8080/"
        },
        "id": "HiLY5_XNg5e4",
        "outputId": "e3bc3c12-2e5f-43d9-eba1-93a01129b32b"
      },
      "execution_count": 19,
      "outputs": [
        {
          "output_type": "stream",
          "name": "stdout",
          "text": [
            "   1   2   3   4   5   6   7   8   9  10\n",
            "   2   4   6   8  10  12  14  16  18  20\n",
            "   3   6   9  12  15  18  21  24  27  30\n",
            "   4   8  12  16  20  24  28  32  36  40\n",
            "   5  10  15  20  25  30  35  40  45  50\n",
            "   6  12  18  24  30  36  42  48  54  60\n",
            "   7  14  21  28  35  42  49  56  63  70\n",
            "   8  16  24  32  40  48  56  64  72  80\n",
            "   9  18  27  36  45  54  63  72  81  90\n",
            "  10  20  30  40  50  60  70  80  90 100\n"
          ]
        }
      ]
    }
  ]
}
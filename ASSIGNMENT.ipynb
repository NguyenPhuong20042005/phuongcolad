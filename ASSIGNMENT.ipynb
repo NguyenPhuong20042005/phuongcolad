{
  "nbformat": 4,
  "nbformat_minor": 0,
  "metadata": {
    "colab": {
      "provenance": [],
      "authorship_tag": "ABX9TyNfbxtRVz+uYivAXg7aW6FM",
      "include_colab_link": true
    },
    "kernelspec": {
      "name": "python3",
      "display_name": "Python 3"
    },
    "language_info": {
      "name": "python"
    }
  },
  "cells": [
    {
      "cell_type": "markdown",
      "metadata": {
        "id": "view-in-github",
        "colab_type": "text"
      },
      "source": [
        "<a href=\"https://colab.research.google.com/github/NguyenPhuong20042005/phuongcolad/blob/main/ASSIGNMENT.ipynb\" target=\"_parent\"><img src=\"https://colab.research.google.com/assets/colab-badge.svg\" alt=\"Open In Colab\"/></a>"
      ]
    },
    {
      "cell_type": "markdown",
      "source": [
        "Data Types and Variables"
      ],
      "metadata": {
        "id": "aUKZDBt1qWqh"
      }
    },
    {
      "cell_type": "code",
      "source": [
        "# Hàm tính GPA\n",
        "def calculate_gpa(grades, credits):\n",
        "    total_points = 0\n",
        "    total_credits = 0\n",
        "\n",
        "    for grade, credit in zip(grades, credits):\n",
        "        total_points += grade * credit\n",
        "        total_credits += credit\n",
        "\n",
        "    if total_credits == 0:\n",
        "        return 0\n",
        "\n",
        "    gpa = total_points / total_credits\n",
        "    return gpa\n",
        "\n",
        "# Hàm in GPA ra file\n",
        "def print_gpa(gpa, filename=\"gpa_result.txt\"):\n",
        "    with open(filename, \"w\") as file:\n",
        "        file.write(f\"Your GPA is: {gpa:.2f}\\n\")\n",
        "    print(f\"GPA result saved to {filename}\")\n",
        "\n",
        "# Chương trình chính\n",
        "def main():\n",
        "    try:\n",
        "        # Nhập tên sinh viên\n",
        "        student_name = input(\"Enter student name: \")\n",
        "\n",
        "        # Khởi tạo danh sách\n",
        "        grades = []\n",
        "        credits = []\n",
        "\n",
        "        # Nhập số môn học\n",
        "        num_courses = int(input(\"Enter number of courses: \"))\n",
        "\n",
        "        for i in range(num_courses):\n",
        "            # Xử lý nhập điểm và tín chỉ từng môn\n",
        "            try:\n",
        "                grade = float(input(f\"Enter grade for course {i+1} (0 - 10): \"))\n",
        "                if grade < 0 or grade > 10:\n",
        "                    raise ValueError(\"Grade must be between 0 and 10\")\n",
        "\n",
        "                credit = float(input(f\"Enter credit for course {i+1} (> 0): \"))\n",
        "                if credit <= 0:\n",
        "                    raise ValueError(\"Credit must be positive\")\n",
        "\n",
        "                grades.append(grade)\n",
        "                credits.append(credit)\n",
        "\n",
        "            except ValueError as e:\n",
        "                print(f\"Input error: {e}\")\n",
        "                print(\"Please re-enter the grade and credit for this course.\")\n",
        "                # Cho phép nhập lại môn này\n",
        "                i -= 1\n",
        "\n",
        "        # Tính GPA\n",
        "        gpa = calculate_gpa(grades, credits)\n",
        "\n",
        "        # In kết quả\n",
        "        print(f\"\\n{student_name}'s GPA is: {gpa:.2f}\")\n",
        "        print_gpa(gpa)\n",
        "\n",
        "    except ValueError as e:\n",
        "        print(f\"Input error: {e}\")\n",
        "    except Exception as e:\n",
        "        print(f\"An unexpected error occurred: {e}\")\n",
        "\n",
        "# Chạy chương trình\n",
        "if __name__ == \"__main__\":\n",
        "    main()\n"
      ],
      "metadata": {
        "colab": {
          "base_uri": "https://localhost:8080/"
        },
        "id": "4KQPLN3sqVyO",
        "outputId": "c22bdc4f-07d0-444f-cb31-9d9de3d79cf0"
      },
      "execution_count": 8,
      "outputs": [
        {
          "output_type": "stream",
          "name": "stdout",
          "text": [
            "Enter student name: phuong\n",
            "Enter number of courses: 3\n",
            "Enter grade for course 1 (0 - 10): 7\n",
            "Enter credit for course 1 (> 0): 5\n",
            "Enter grade for course 2 (0 - 10): 8\n",
            "Enter credit for course 2 (> 0): 5\n",
            "Enter grade for course 3 (0 - 10): 6\n",
            "Enter credit for course 3 (> 0): 5\n",
            "\n",
            "phuong's GPA is: 7.00\n",
            "GPA result saved to gpa_result.txt\n"
          ]
        }
      ]
    }
  ]
}
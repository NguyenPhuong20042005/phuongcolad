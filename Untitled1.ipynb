{
  "nbformat": 4,
  "nbformat_minor": 0,
  "metadata": {
    "colab": {
      "provenance": [],
      "authorship_tag": "ABX9TyOEtKLS2tXpM8JUYSKifi8j",
      "include_colab_link": true
    },
    "kernelspec": {
      "name": "python3",
      "display_name": "Python 3"
    },
    "language_info": {
      "name": "python"
    }
  },
  "cells": [
    {
      "cell_type": "markdown",
      "metadata": {
        "id": "view-in-github",
        "colab_type": "text"
      },
      "source": [
        "<a href=\"https://colab.research.google.com/github/NguyenPhuong20042005/phuongcolad/blob/main/Untitled1.ipynb\" target=\"_parent\"><img src=\"https://colab.research.google.com/assets/colab-badge.svg\" alt=\"Open In Colab\"/></a>"
      ]
    },
    {
      "cell_type": "markdown",
      "source": [
        "bài 1.  \n",
        "A. Output to the screen: \"Hello your_name\""
      ],
      "metadata": {
        "id": "2HPO0nvoRTPI"
      }
    },
    {
      "cell_type": "code",
      "execution_count": null,
      "metadata": {
        "colab": {
          "base_uri": "https://localhost:8080/"
        },
        "id": "90DTAwv-Q7Ty",
        "outputId": "7a06c531-c1f5-431d-bfa7-f2c40469cfa9"
      },
      "outputs": [
        {
          "output_type": "stream",
          "name": "stdout",
          "text": [
            "Hello, Phuong!\n"
          ]
        }
      ],
      "source": [
        "print(\"Hello, Phuong!\");\n"
      ]
    },
    {
      "cell_type": "markdown",
      "source": [
        "B. Concatenate 2 strings to get:"
      ],
      "metadata": {
        "id": "OpxS1yhIR3Z_"
      }
    },
    {
      "cell_type": "code",
      "source": [
        "your_name = \"Phuong\"\n",
        "your_friend_name = \"Manh\"\n",
        "print(\"Hello, \" + your_name + \" and \" + your_friend_name + \"!\");"
      ],
      "metadata": {
        "colab": {
          "base_uri": "https://localhost:8080/"
        },
        "id": "60wN00C6R99-",
        "outputId": "c8505007-c493-4366-cdb5-24b18ee0187b"
      },
      "execution_count": null,
      "outputs": [
        {
          "output_type": "stream",
          "name": "stdout",
          "text": [
            "Hello, Phuong and Manh!\n"
          ]
        }
      ]
    },
    {
      "cell_type": "markdown",
      "source": [
        "C. Using f-Strings instead of concatenating"
      ],
      "metadata": {
        "id": "xQhivGkNSV4O"
      }
    },
    {
      "cell_type": "code",
      "source": [
        "your_name = \"Phuong\"\n",
        "your_friend_name = \"Manh\"\n",
        "print(f\"Hello, {your_name} and {your_friend_name}!\");\n"
      ],
      "metadata": {
        "colab": {
          "base_uri": "https://localhost:8080/"
        },
        "id": "IHYfyOwvSZWW",
        "outputId": "00d095d1-036e-46ea-a0a5-caa4695c5ada"
      },
      "execution_count": null,
      "outputs": [
        {
          "output_type": "stream",
          "name": "stdout",
          "text": [
            "Hello, Phuong and Manh!\n"
          ]
        }
      ]
    },
    {
      "cell_type": "markdown",
      "source": [
        "D. Print out the song, keeping the indentation"
      ],
      "metadata": {
        "id": "EwDC2NsVSt_P"
      }
    },
    {
      "cell_type": "code",
      "source": [
        "print(\"Twinkle, twinkle, little star,\\n\"\n",
        "      \"    How I wonder what you are!\\n\"\n",
        "      \"        Up above the world so high,\\n\"\n",
        "      \"        Like a diamond in the sky.\\n\"\n",
        "      \"Twinkle, twinkle, little star,\\n\"\n",
        "      \"    How I wonder what you are!\");\n"
      ],
      "metadata": {
        "colab": {
          "base_uri": "https://localhost:8080/"
        },
        "id": "XjArPBdrSxOe",
        "outputId": "8481ddb0-9c57-47f1-9a50-63408fd9fed0"
      },
      "execution_count": null,
      "outputs": [
        {
          "output_type": "stream",
          "name": "stdout",
          "text": [
            "Twinkle, twinkle, little star,\n",
            "    How I wonder what you are!\n",
            "        Up above the world so high,\n",
            "        Like a diamond in the sky.\n",
            "Twinkle, twinkle, little star,\n",
            "    How I wonder what you are!\n"
          ]
        }
      ]
    },
    {
      "cell_type": "markdown",
      "source": [
        "bài 2. Basic operations in Python"
      ],
      "metadata": {
        "id": "ejlnDYkOUJLt"
      }
    },
    {
      "cell_type": "code",
      "source": [
        "num_one = 6\n",
        "num_two = 8\n",
        "# Phép cộng\n",
        "total = num_one + num_two\n",
        "\n",
        "# Phép trừ\n",
        "diff = num_one - num_two\n",
        "\n",
        "# Phép nhân\n",
        "product = num_two * num_one\n",
        "\n",
        "# Phép chia\n",
        "division = num_one / num_two\n",
        "\n",
        "# Phép chia lấy dư (modulus)\n",
        "remainder = num_two % num_one\n",
        "\n",
        "# Lũy thừa\n",
        "exp = num_one ** num_two\n",
        "\n",
        "# Chia lấy phần nguyên (floor division)\n",
        "floor_division = num_one // num_two\n",
        "\n",
        "print(f\"Total: {total} (type: {type(total)})\")\n",
        "print(f\"Difference: {diff} (type: {type(diff)})\")\n",
        "print(f\"Product: {product} (type: {type(product)})\")\n",
        "print(f\"Division: {division} (type: {type(division)})\")\n",
        "print(f\"Remainder: {remainder} (type: {type(remainder)})\")\n",
        "print(f\"Exponentiation: {exp} (type: {type(exp)})\")\n",
        "print(f\"Floor Division: {floor_division} (type: {type(floor_division)})\")"
      ],
      "metadata": {
        "colab": {
          "base_uri": "https://localhost:8080/"
        },
        "id": "yf7Of4KCUGhe",
        "outputId": "b697ae22-cce5-4d1a-e192-32a6895ece75"
      },
      "execution_count": null,
      "outputs": [
        {
          "output_type": "stream",
          "name": "stdout",
          "text": [
            "Total: 14 (type: <class 'int'>)\n",
            "Difference: -2 (type: <class 'int'>)\n",
            "Product: 48 (type: <class 'int'>)\n",
            "Division: 0.75 (type: <class 'float'>)\n",
            "Remainder: 2 (type: <class 'int'>)\n",
            "Exponentiation: 1679616 (type: <class 'int'>)\n",
            "Floor Division: 0 (type: <class 'int'>)\n"
          ]
        }
      ]
    },
    {
      "cell_type": "markdown",
      "source": [
        "bài 3. Calculate perimeter and area"
      ],
      "metadata": {
        "id": "GI5j-dKDYK4l"
      }
    },
    {
      "cell_type": "code",
      "source": [
        "# Khai báo chiều dài và chiều rộng\n",
        "length = 6.0\n",
        "width = 8.0\n",
        "\n",
        "# Tính diện tích\n",
        "area_of_rectangle = length * width\n",
        "\n",
        "# Tính chu vi\n",
        "circum_of_rectangle = 2 * (length + width)\n",
        "\n",
        "# In kết quả\n",
        "print(f\"Length: {length}\")\n",
        "print(f\"Width: {width}\")\n",
        "print(f\"Perimeter: {circum_of_rectangle}\")\n",
        "print(f\"Area: {area_of_rectangle}\")"
      ],
      "metadata": {
        "colab": {
          "base_uri": "https://localhost:8080/"
        },
        "id": "mEDFggQVYTCU",
        "outputId": "f5ecb965-aab3-4895-bd93-edce5096b8ca"
      },
      "execution_count": null,
      "outputs": [
        {
          "output_type": "stream",
          "name": "stdout",
          "text": [
            "Length: 6.0\n",
            "Width: 8.0\n",
            "Perimeter: 28.0\n",
            "Area: 48.0\n"
          ]
        }
      ]
    },
    {
      "cell_type": "markdown",
      "source": [
        "bài1."
      ],
      "metadata": {
        "id": "HGku2QTiU0hW"
      }
    },
    {
      "cell_type": "code",
      "source": [
        "name = input(\"What is your name? \");\n",
        "print(f\"Hello, {name}! Nice to meet you.\");\n"
      ],
      "metadata": {
        "colab": {
          "base_uri": "https://localhost:8080/"
        },
        "id": "iMvakvNlVUb3",
        "outputId": "8eb29da1-d971-42f6-f881-74ac0404a25f"
      },
      "execution_count": null,
      "outputs": [
        {
          "output_type": "stream",
          "name": "stdout",
          "text": [
            "What is your name? Phuong\n",
            "Hello, Phuong! Nice to meet you.\n"
          ]
        }
      ]
    },
    {
      "cell_type": "markdown",
      "source": [
        "bài2."
      ],
      "metadata": {
        "id": "DOOtgpiJVoE-"
      }
    },
    {
      "cell_type": "code",
      "source": [
        "length = float(input(\"Enter the length of the rectangle: \"));\n",
        "width = float(input(\"Enter the width of the rectangle: \"));\n",
        "area = length * width\n",
        "print(f\"The area of the rectangle is {area}.\");\n"
      ],
      "metadata": {
        "colab": {
          "base_uri": "https://localhost:8080/"
        },
        "id": "REPhiSdbVtTd",
        "outputId": "50f5eafd-0b54-42af-c3f8-0da3117c193d"
      },
      "execution_count": null,
      "outputs": [
        {
          "output_type": "stream",
          "name": "stdout",
          "text": [
            "Enter the length of the rectangle: 15\n",
            "Enter the width of the rectangle: 10\n",
            "The area of the rectangle is 150.0.\n"
          ]
        }
      ]
    },
    {
      "cell_type": "markdown",
      "source": [
        "bài3."
      ],
      "metadata": {
        "id": "-WBadLl7WMPm"
      }
    },
    {
      "cell_type": "code",
      "source": [
        "first_name = input(\"Enter your first name: \");\n",
        "last_name = input(\"Enter your last name: \");\n",
        "full_name = first_name + \" \" + last_name\n",
        "print(f\"Your full name is {full_name}.\");\n"
      ],
      "metadata": {
        "colab": {
          "base_uri": "https://localhost:8080/"
        },
        "id": "58hpVLq9WPF2",
        "outputId": "e84db9aa-f4cf-4f7b-fbac-35a165363aa0"
      },
      "execution_count": null,
      "outputs": [
        {
          "output_type": "stream",
          "name": "stdout",
          "text": [
            "Enter your first name: Phuong\n",
            "Enter your last name: Nguyen\n",
            "Your full name is Phuong Nguyen.\n"
          ]
        }
      ]
    },
    {
      "cell_type": "markdown",
      "source": [],
      "metadata": {
        "id": "BbyVCVeBdy0b"
      }
    },
    {
      "cell_type": "markdown",
      "source": [
        "bài 3. Calculate perimeter and area"
      ],
      "metadata": {
        "id": "UGneHi-Ud3cb"
      }
    },
    {
      "cell_type": "code",
      "source": [
        "# Nhập chiều dài và chiều rộng\n",
        "length = float(input(\"Enter the length of the rectangle: \"))\n",
        "width = float(input(\"Enter the width of the rectangle: \"))\n",
        "\n",
        "# Tính chu vi và diện tích\n",
        "area_of_rectangle = length * width\n",
        "circum_of_rectangle = 2 * (length + width)\n",
        "\n",
        "# In kết quả\n",
        "print(f\"Length: {length}\")\n",
        "print(f\"Width: {width}\")\n",
        "print(f\"Perimeter: {circum_of_rectangle}\")\n",
        "print(f\"Area: {area_of_rectangle}\")\n"
      ],
      "metadata": {
        "colab": {
          "base_uri": "https://localhost:8080/"
        },
        "id": "bliD937odq1C",
        "outputId": "894bbfab-d661-4b81-cb6b-eaf49f061ba1"
      },
      "execution_count": null,
      "outputs": [
        {
          "output_type": "stream",
          "name": "stdout",
          "text": [
            "Enter the length of the rectangle: 6\n",
            "Enter the width of the rectangle: 8\n",
            "Length: 6.0\n",
            "Width: 8.0\n",
            "Perimeter: 28.0\n",
            "Area: 48.0\n"
          ]
        }
      ]
    }
  ]
}
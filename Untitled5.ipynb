{
  "nbformat": 4,
  "nbformat_minor": 0,
  "metadata": {
    "colab": {
      "provenance": [],
      "authorship_tag": "ABX9TyN+hpPkAOvl9jyGduH2D05a",
      "include_colab_link": true
    },
    "kernelspec": {
      "name": "python3",
      "display_name": "Python 3"
    },
    "language_info": {
      "name": "python"
    }
  },
  "cells": [
    {
      "cell_type": "markdown",
      "metadata": {
        "id": "view-in-github",
        "colab_type": "text"
      },
      "source": [
        "<a href=\"https://colab.research.google.com/github/NguyenPhuong20042005/phuongcolad/blob/main/Untitled5.ipynb\" target=\"_parent\"><img src=\"https://colab.research.google.com/assets/colab-badge.svg\" alt=\"Open In Colab\"/></a>"
      ]
    },
    {
      "cell_type": "markdown",
      "source": [
        "1. Print the numbers from 1 to 10 using a for loop"
      ],
      "metadata": {
        "id": "KU6mw3MzTDzu"
      }
    },
    {
      "cell_type": "code",
      "execution_count": 1,
      "metadata": {
        "colab": {
          "base_uri": "https://localhost:8080/"
        },
        "id": "s4HVPZnpSvB7",
        "outputId": "70184de0-93ed-49b2-977f-0ce7711f6bd1"
      },
      "outputs": [
        {
          "output_type": "stream",
          "name": "stdout",
          "text": [
            "Numbers from 1 to 10:\n",
            "1\n",
            "2\n",
            "3\n",
            "4\n",
            "5\n",
            "6\n",
            "7\n",
            "8\n",
            "9\n",
            "10\n"
          ]
        }
      ],
      "source": [
        "print(\"Numbers from 1 to 10:\")\n",
        "for i in range(1, 11):\n",
        "    print(i)"
      ]
    },
    {
      "cell_type": "markdown",
      "source": [
        "2. Print the even numbers from 1 to 20 using a for loop"
      ],
      "metadata": {
        "id": "473UG7ZTTOsr"
      }
    },
    {
      "cell_type": "code",
      "source": [
        "print(\"\\nEven numbers from 1 to 20:\")\n",
        "for i in range(2, 21, 2):\n",
        "    print(i)"
      ],
      "metadata": {
        "colab": {
          "base_uri": "https://localhost:8080/"
        },
        "id": "Z3dP5No5TPKT",
        "outputId": "99a69f07-d53e-45d4-b81c-5154ab04b32c"
      },
      "execution_count": 2,
      "outputs": [
        {
          "output_type": "stream",
          "name": "stdout",
          "text": [
            "\n",
            "Even numbers from 1 to 20:\n",
            "2\n",
            "4\n",
            "6\n",
            "8\n",
            "10\n",
            "12\n",
            "14\n",
            "16\n",
            "18\n",
            "20\n"
          ]
        }
      ]
    },
    {
      "cell_type": "markdown",
      "source": [
        "3. Calculate the sum of the numbers from 1 to 100 using a while loop - and a version using for loop"
      ],
      "metadata": {
        "id": "zp8yL4p7Ta-R"
      }
    },
    {
      "cell_type": "code",
      "source": [
        "# Using a while loop\n",
        "sum_while = 0\n",
        "i = 1\n",
        "while i <= 100:\n",
        "    sum_while += i\n",
        "    i += 1\n",
        "print(f\"\\nSum from 1 to 100 using while loop: {sum_while}\")\n",
        "\n",
        "# Using a for loop\n",
        "sum_for = 0\n",
        "for i in range(1, 101):\n",
        "    sum_for += i\n",
        "print(f\"Sum from 1 to 100 using for loop: {sum_for}\")"
      ],
      "metadata": {
        "colab": {
          "base_uri": "https://localhost:8080/"
        },
        "id": "9qtnDNQDTeqa",
        "outputId": "e4e5b08a-2795-4179-8bb2-0485f8ba5865"
      },
      "execution_count": 3,
      "outputs": [
        {
          "output_type": "stream",
          "name": "stdout",
          "text": [
            "\n",
            "Sum from 1 to 100 using while loop: 5050\n",
            "Sum from 1 to 100 using for loop: 5050\n"
          ]
        }
      ]
    }
  ]
}
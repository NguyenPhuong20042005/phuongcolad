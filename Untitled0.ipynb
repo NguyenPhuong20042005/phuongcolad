{
  "nbformat": 4,
  "nbformat_minor": 0,
  "metadata": {
    "colab": {
      "provenance": [],
      "authorship_tag": "ABX9TyNRJcNUSUx2lbNtuU8vvHoY",
      "include_colab_link": true
    },
    "kernelspec": {
      "name": "python3",
      "display_name": "Python 3"
    },
    "language_info": {
      "name": "python"
    }
  },
  "cells": [
    {
      "cell_type": "markdown",
      "metadata": {
        "id": "view-in-github",
        "colab_type": "text"
      },
      "source": [
        "<a href=\"https://colab.research.google.com/github/NguyenPhuong20042005/phuongcolad/blob/main/Untitled0.ipynb\" target=\"_parent\"><img src=\"https://colab.research.google.com/assets/colab-badge.svg\" alt=\"Open In Colab\"/></a>"
      ]
    },
    {
      "cell_type": "markdown",
      "source": [
        "1. Given 5 variables: a = 10; b = “Hello”; c = 3.14; d = [1,2,3]; e = (1,2,3), what are their data types? (hint: using type() built-in function) Perform using string formatting (using f-Strings) and print."
      ],
      "metadata": {
        "id": "HQKUfhn9zWAD"
      }
    },
    {
      "cell_type": "code",
      "source": [],
      "metadata": {
        "id": "x1KTo9Vc4ZAX"
      },
      "execution_count": null,
      "outputs": []
    },
    {
      "cell_type": "code",
      "metadata": {
        "id": "5e18b9ae",
        "outputId": "9c612310-2f5c-4320-af24-8959cba248b9",
        "colab": {
          "base_uri": "https://localhost:8080/"
        }
      },
      "source": [
        "a = 10 #<class 'int'>\n",
        "b = \"Hello\" #<class 'str'>\n",
        "c = 3.14 #<class 'float'>\n",
        "d = [1, 2, 3] #<class 'list'>\n",
        "e = (1, 2, 3) #<class 'tuple'>\n",
        "\n",
        "print(type(a))\n",
        "print(type(b))\n",
        "print(type(c))\n",
        "print(type(d))\n",
        "print(type(e))"
      ],
      "execution_count": null,
      "outputs": [
        {
          "output_type": "stream",
          "name": "stdout",
          "text": [
            "<class 'int'>\n",
            "<class 'str'>\n",
            "<class 'float'>\n",
            "<class 'list'>\n",
            "<class 'tuple'>\n"
          ]
        }
      ]
    },
    {
      "cell_type": "markdown",
      "source": [
        "2. Function with 2 variables, name and age to print out this sentence: \"My name is Dan, and I am 18 years old.\"."
      ],
      "metadata": {
        "id": "TM9K9JsrzOsD"
      }
    },
    {
      "cell_type": "code",
      "source": [
        "name = \"Phuong\"\n",
        "age = 20\n",
        "\n",
        "print(f\"My name is {name}, and I am {age} years old.\");"
      ],
      "metadata": {
        "colab": {
          "base_uri": "https://localhost:8080/"
        },
        "id": "zek6nBS-0Eoz",
        "outputId": "a4ed44f0-77d7-4db0-9fb6-fcc3d9b3cc2e"
      },
      "execution_count": null,
      "outputs": [
        {
          "output_type": "stream",
          "name": "stdout",
          "text": [
            "My name is Phuong, and I am 20 years old.\n"
          ]
        }
      ]
    }
  ]
}
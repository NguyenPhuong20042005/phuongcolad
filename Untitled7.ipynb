{
  "nbformat": 4,
  "nbformat_minor": 0,
  "metadata": {
    "colab": {
      "provenance": [],
      "authorship_tag": "ABX9TyMKLK+jyfxA13fPTsrdZLEP",
      "include_colab_link": true
    },
    "kernelspec": {
      "name": "python3",
      "display_name": "Python 3"
    },
    "language_info": {
      "name": "python"
    }
  },
  "cells": [
    {
      "cell_type": "markdown",
      "metadata": {
        "id": "view-in-github",
        "colab_type": "text"
      },
      "source": [
        "<a href=\"https://colab.research.google.com/github/NguyenPhuong20042005/phuongcolad/blob/main/Untitled7.ipynb\" target=\"_parent\"><img src=\"https://colab.research.google.com/assets/colab-badge.svg\" alt=\"Open In Colab\"/></a>"
      ]
    },
    {
      "cell_type": "markdown",
      "source": [
        "1. Python function example:"
      ],
      "metadata": {
        "id": "vnXNIqGjYKvj"
      }
    },
    {
      "cell_type": "code",
      "execution_count": 8,
      "metadata": {
        "colab": {
          "base_uri": "https://localhost:8080/"
        },
        "id": "_VZKbb-4S24d",
        "outputId": "32436f5d-17f3-490e-f7a2-9a59e4633d70"
      },
      "outputs": [
        {
          "output_type": "stream",
          "name": "stdout",
          "text": [
            "Before calling\n",
            "--Inside f()\n",
            "After calling f()\n"
          ]
        }
      ],
      "source": [
        "def f():\n",
        "  s = '--Inside f()'\n",
        "  print(s)\n",
        "\n",
        "print('Before calling')\n",
        "f()\n",
        "print('After calling f()')\n"
      ]
    },
    {
      "cell_type": "markdown",
      "source": [],
      "metadata": {
        "id": "LAtHieH8kzKR"
      }
    },
    {
      "cell_type": "code",
      "source": [
        "def calculate_statistics():\n",
        "    while True:\n",
        "        try:\n",
        "\n",
        "            # Get 3 inputs from user and convert to float\n",
        "            num1 = float(input(f\"Enter the first number \"))\n",
        "            num2 = float(input(f\"Enter the second number \"))\n",
        "            num3 = float(input(f\"Enter the third number \"))\n",
        "\n",
        "\n",
        "            # Calculate average\n",
        "            average = (num1 + num2 + num3)/3\n",
        "\n",
        "            # Calculate median\n",
        "            if num1 >= num2 and num1 >= num3:\n",
        "                median = num1\n",
        "            elif num2 >= num1 and num2 >= num3:\n",
        "                median = num2\n",
        "            else:\n",
        "                median = num3\n",
        "\n",
        "            # Calculate range\n",
        "            range = max(num1, num2, num3) - min(num1, num2, num3)\n",
        "\n",
        "            # Print the results\n",
        "            print(f\"‘average’: {average}\")\n",
        "            print(f\"‘median’: {median}\")\n",
        "            print(f\"‘range’: {range}\")\n",
        "            break\n",
        "\n",
        "        except ValueError:\n",
        "            print(\"Invalid input. Please enter a valid number.\")\n",
        "\n",
        "# Call the function\n",
        "calculate_statistics()"
      ],
      "metadata": {
        "colab": {
          "base_uri": "https://localhost:8080/"
        },
        "id": "gDqIDPpLk0ip",
        "outputId": "c93a731a-7f7a-498c-ac18-4859521faa74"
      },
      "execution_count": 13,
      "outputs": [
        {
          "output_type": "stream",
          "name": "stdout",
          "text": [
            "Enter the first number anh\n",
            "Invalid input. Please enter a valid number.\n",
            "Enter the first number 120\n",
            "Enter the second number 23.\n",
            "Enter the third number 53\n",
            "‘average’: 65.33333333333333\n",
            "‘median’: 120.0\n",
            "‘range’: 97.0\n"
          ]
        }
      ]
    },
    {
      "cell_type": "code",
      "source": [],
      "metadata": {
        "id": "F4AKj3Wlk52u"
      },
      "execution_count": null,
      "outputs": []
    }
  ]
}
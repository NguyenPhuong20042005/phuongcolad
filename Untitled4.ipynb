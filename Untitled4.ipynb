{
  "nbformat": 4,
  "nbformat_minor": 0,
  "metadata": {
    "colab": {
      "provenance": [],
      "authorship_tag": "ABX9TyNhbEzWIRemBWGoWkOnrgDn",
      "include_colab_link": true
    },
    "kernelspec": {
      "name": "python3",
      "display_name": "Python 3"
    },
    "language_info": {
      "name": "python"
    }
  },
  "cells": [
    {
      "cell_type": "markdown",
      "metadata": {
        "id": "view-in-github",
        "colab_type": "text"
      },
      "source": [
        "<a href=\"https://colab.research.google.com/github/NguyenPhuong20042005/phuongcolad/blob/main/Untitled4.ipynb\" target=\"_parent\"><img src=\"https://colab.research.google.com/assets/colab-badge.svg\" alt=\"Open In Colab\"/></a>"
      ]
    },
    {
      "cell_type": "markdown",
      "source": [
        "1."
      ],
      "metadata": {
        "id": "gnnYjtbQosBK"
      }
    },
    {
      "cell_type": "code",
      "execution_count": 12,
      "metadata": {
        "colab": {
          "base_uri": "https://localhost:8080/"
        },
        "id": "LHx32eesm0x5",
        "outputId": "94cdc512-8d83-45f1-d771-ba36c20553f4"
      },
      "outputs": [
        {
          "output_type": "stream",
          "name": "stdout",
          "text": [
            "x is positive\n"
          ]
        }
      ],
      "source": [
        "x = 10\n",
        "\n",
        "if x < 0:\n",
        "    print(\"x is negative\");\n",
        "elif x == 0:\n",
        "    print(\"x is zero\");\n",
        "else:\n",
        "    print(\"x is positive\");"
      ]
    },
    {
      "cell_type": "markdown",
      "source": [
        "2."
      ],
      "metadata": {
        "id": "2bO_UpzVouRZ"
      }
    },
    {
      "cell_type": "code",
      "source": [
        "count = 0\n",
        "while count < 5:\n",
        "    print(count)\n",
        "    count += 1"
      ],
      "metadata": {
        "colab": {
          "base_uri": "https://localhost:8080/"
        },
        "id": "8fL7tPsFovdx",
        "outputId": "fc4c9311-5fdd-4800-94b6-faab66042300"
      },
      "execution_count": 13,
      "outputs": [
        {
          "output_type": "stream",
          "name": "stdout",
          "text": [
            "0\n",
            "1\n",
            "2\n",
            "3\n",
            "4\n"
          ]
        }
      ]
    },
    {
      "cell_type": "markdown",
      "source": [
        "3."
      ],
      "metadata": {
        "id": "_-yaj4EcqBpp"
      }
    },
    {
      "cell_type": "code",
      "source": [
        "n = 5\n",
        "while n > 0:\n",
        "  n-= 1\n",
        "  print(n)\n",
        "  if n == 2:\n",
        "    break\n",
        "else:\n",
        "  print('Loop done.')"
      ],
      "metadata": {
        "colab": {
          "base_uri": "https://localhost:8080/"
        },
        "id": "QhVI4DTSqDB4",
        "outputId": "a43bc141-e588-4edc-bbf8-afbbf72bcb10"
      },
      "execution_count": 14,
      "outputs": [
        {
          "output_type": "stream",
          "name": "stdout",
          "text": [
            "4\n",
            "3\n",
            "2\n"
          ]
        }
      ]
    },
    {
      "cell_type": "markdown",
      "source": [
        "4"
      ],
      "metadata": {
        "id": "ZOejyK-Orxbe"
      }
    },
    {
      "cell_type": "code",
      "source": [
        "a = ['foo', 'bar', 'baz']\n",
        "for i in a:\n",
        "  print(i, end=' ')"
      ],
      "metadata": {
        "colab": {
          "base_uri": "https://localhost:8080/"
        },
        "id": "SQZs7Hf0rydG",
        "outputId": "edea5aa4-114c-4bb5-8477-b07c37fe858d"
      },
      "execution_count": 16,
      "outputs": [
        {
          "output_type": "stream",
          "name": "stdout",
          "text": [
            "foo bar baz "
          ]
        }
      ]
    },
    {
      "cell_type": "markdown",
      "source": [
        "5"
      ],
      "metadata": {
        "id": "CUyABy2xsYPF"
      }
    },
    {
      "cell_type": "code",
      "source": [
        "data = [1, 7, 9, 10, 2, 6]\n",
        "big_index = 0\n",
        "for j in range(1, len(data)):\n",
        "  if data[j] > data[big_index]:\n",
        "    big_index = j\n",
        "print(data[big_index])"
      ],
      "metadata": {
        "colab": {
          "base_uri": "https://localhost:8080/"
        },
        "id": "2mHJZFnysZKd",
        "outputId": "992a753d-c351-4d9c-de88-35b76a6aa02e"
      },
      "execution_count": 18,
      "outputs": [
        {
          "output_type": "stream",
          "name": "stdout",
          "text": [
            "10\n"
          ]
        }
      ]
    }
  ]
}